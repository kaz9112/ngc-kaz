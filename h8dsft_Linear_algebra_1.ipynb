{
 "cells": [
  {
   "cell_type": "code",
   "execution_count": 1,
   "metadata": {},
   "outputs": [],
   "source": [
    "import numpy as np"
   ]
  },
  {
   "cell_type": "markdown",
   "metadata": {},
   "source": [
    "1. Buatlah vektor di bawah ini dengan Python"
   ]
  },
  {
   "cell_type": "code",
   "execution_count": 2,
   "metadata": {},
   "outputs": [
    {
     "data": {
      "text/plain": [
       "array([[17],\n",
       "       [22],\n",
       "       [19]])"
      ]
     },
     "execution_count": 2,
     "metadata": {},
     "output_type": "execute_result"
    }
   ],
   "source": [
    "matrix_1 = np.array([[17],\n",
    "                     [22],\n",
    "                     [19]])\n",
    "                     \n",
    "matrix_1"
   ]
  },
  {
   "cell_type": "markdown",
   "metadata": {},
   "source": [
    "2. Diberikan3 buah vector 3 dimensi:\n",
    "\n",
    "\n",
    "Hitunglah:\n",
    "-A+B\n",
    "-B-C\n",
    "-A dot C\n",
    "-A x B-\n",
    "norm A\n",
    "-Sudut antaravektor A dan B"
   ]
  },
  {
   "cell_type": "code",
   "execution_count": 3,
   "metadata": {},
   "outputs": [
    {
     "name": "stdout",
     "output_type": "stream",
     "text": [
      "[[27]\n",
      " [42]\n",
      " [30]]\n",
      "\n",
      "[[5]\n",
      " [8]\n",
      " [2]]\n",
      "\n",
      "[[170]\n",
      " [440]\n",
      " [209]]\n",
      "\n",
      "Vector Norm - L1 :  58.0\n",
      "\n",
      "Vector Norm - L2 :  33.67491648096547\n"
     ]
    }
   ],
   "source": [
    "vector_a = np.array([[17],\n",
    "                     [22],\n",
    "                     [19]])\n",
    "vector_b = np.array([[10],\n",
    "                     [20],\n",
    "                     [11]])\n",
    "vector_c = np.array([[5],\n",
    "                     [12],\n",
    "                     [9]])\n",
    "\n",
    "print(vector_a + vector_b)\n",
    "print('')\n",
    "print(vector_b - vector_c)\n",
    "print('')\n",
    "# print(np.dot(vector_a, vector_c))\n",
    "# print('')\n",
    "print(vector_a * vector_b)\n",
    "print('')\n",
    "\n",
    "## Mencari L1 : Manhattan Distance\n",
    "print('Vector Norm - L1 : ', np.linalg.norm(vector_a, 1))\n",
    "print('')\n",
    "\n",
    "## Mencari L2 : Euclidean Distance\n",
    "print('Vector Norm - L2 : ', np.linalg.norm(vector_a))\n"
   ]
  },
  {
   "cell_type": "code",
   "execution_count": 4,
   "metadata": {},
   "outputs": [],
   "source": [
    "vector_a = vector_a.reshape(1,3)"
   ]
  },
  {
   "cell_type": "code",
   "execution_count": 5,
   "metadata": {},
   "outputs": [],
   "source": [
    "# Sudut antar vektor a dan b\n",
    "cos_theta = (vector_a @ vector_b) / (np.linalg.norm(vector_a) * np.linalg.norm(vector_b))"
   ]
  },
  {
   "cell_type": "code",
   "execution_count": 6,
   "metadata": {},
   "outputs": [
    {
     "name": "stdout",
     "output_type": "stream",
     "text": [
      "Radian :  [[0.21971777]]\n",
      "Degree :  [[12.58890066]]\n"
     ]
    }
   ],
   "source": [
    "# Mencari Radian dan Degree\n",
    "\n",
    "radian = np.arccos(cos_theta)\n",
    "degree = np.degrees(radian)\n",
    "\n",
    "print('Radian : ', radian)\n",
    "print('Degree : ', degree)"
   ]
  },
  {
   "cell_type": "markdown",
   "metadata": {},
   "source": [
    "3. Buatlah plot dari vector berikut ini kedalam bidang 2D"
   ]
  },
  {
   "cell_type": "code",
   "execution_count": 7,
   "metadata": {},
   "outputs": [
    {
     "data": {
      "text/plain": [
       "(array([[2],\n",
       "        [5]]),\n",
       " array([[3],\n",
       "        [1]]))"
      ]
     },
     "execution_count": 7,
     "metadata": {},
     "output_type": "execute_result"
    }
   ],
   "source": [
    "# buat variabel u dan v\n",
    "u = np.array([[2],[5]])\n",
    "v = np.array([[3],[1]])\n",
    "u, v"
   ]
  },
  {
   "cell_type": "code",
   "execution_count": 8,
   "metadata": {},
   "outputs": [],
   "source": [
    "# import library\n",
    "import matplotlib.pyplot as plt\n",
    "import seaborn as sns\n",
    "sns.set()"
   ]
  },
  {
   "cell_type": "code",
   "execution_count": 11,
   "metadata": {},
   "outputs": [
    {
     "data": {
      "text/plain": [
       "[<matplotlib.lines.Line2D at 0x7fdf27575430>]"
      ]
     },
     "metadata": {},
     "output_type": "display_data"
    },
    {
     "data": {
      "text/plain": [
       "<Figure size 504x504 with 0 Axes>"
      ]
     },
     "execution_count": 11,
     "metadata": {},
     "output_type": "execute_result"
    },
    {
     "data": {
      "image/png": "[encoded data removed]",
      "text/plain": [
       "<Figure size 432x288 with 1 Axes>"
      ]
     },
     "metadata": {},
     "output_type": "display_data"
    },
    {
     "data": {
      "text/plain": [
       "<Figure size 504x504 with 0 Axes>"
      ]
     },
     "metadata": {},
     "output_type": "display_data"
    }
   ],
   "source": [
    "# show plot\n",
    "display(plt.plot(u,v))\n",
    "plt.ylim(0,5.5)\n",
    "plt.figure(figsize=(7,7))"
   ]
  }
 ],
 "metadata": {
  "kernelspec": {
   "display_name": "Python 3.9.12 ('base')",
   "language": "python",
   "name": "python3"
  },
  "language_info": {
   "codemirror_mode": {
    "name": "ipython",
    "version": 3
   },
   "file_extension": ".py",
   "mimetype": "text/x-python",
   "name": "python",
   "nbconvert_exporter": "python",
   "pygments_lexer": "ipython3",
   "version": "3.9.12"
  },
  "orig_nbformat": 4,
  "vscode": {
   "interpreter": {
    "hash": "1b15b47e994a45b2c1c9c2019b348cb81bbb68780db9285c808c045d049d064a"
   }
  }
 },
 "nbformat": 4,
 "nbformat_minor": 2
}
